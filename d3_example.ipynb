{
 "metadata": {
  "name": ""
 },
 "nbformat": 3,
 "nbformat_minor": 0,
 "worksheets": [
  {
   "cells": [
    {
     "cell_type": "markdown",
     "metadata": {},
     "source": [
      "# IPython Notebook with D3\n",
      "\n",
      "## Part 1: Basics\n",
      "\n",
      "### `IFrame` method"
     ]
    },
    {
     "cell_type": "code",
     "collapsed": false,
     "input": [
      "from IPython.display import IFrame\n",
      "IFrame('files/stack.html',800,350)"
     ],
     "language": "python",
     "metadata": {},
     "outputs": [
      {
       "html": [
        "\n",
        "        <iframe\n",
        "            width=\"800\"\n",
        "            height=350\"\n",
        "            src=\"files/stack.html\"\n",
        "            frameborder=\"0\"\n",
        "            allowfullscreen\n",
        "        ></iframe>\n",
        "        "
       ],
       "metadata": {},
       "output_type": "pyout",
       "prompt_number": 8,
       "text": [
        "<IPython.lib.display.IFrame at 0x1057ed310>"
       ]
      }
     ],
     "prompt_number": 8
    },
    {
     "cell_type": "markdown",
     "metadata": {},
     "source": [
      "### Load d3.js\n",
      "\n",
      "This is a bit tricky and may fail the first time.\n",
      "\n",
      "`\n",
      "Javascript error adding output!\n",
      "Error: Mismatched anonymous define() module: [object Object] http://requirejs.org/docs/errors.html#mismatch\n",
      "See your browser Javascript console for more details.\n",
      "`\n",
      "\n",
      "Keep trying!\n",
      "\n",
      "Load method copied and modified from https://github.com/wrobstory/vincent\n",
      "\n",
      "Load method copied and modified from https://github.com/wrobstory/vincent"
     ]
    },
    {
     "cell_type": "code",
     "collapsed": false,
     "input": [
      "from IPython.core.display import display, Javascript\n",
      "require_js = '''\n",
      "    if (window.d3 === undefined){{   \n",
      "        require.config({{ paths: {{d3: \"http://d3js.org/d3.v3.min\"}} }});\n",
      "        require(['d3'], function(d3) {{\n",
      "            window.d3 = d3;\n",
      "            console.log(window.d3);\n",
      "        }});\n",
      "    }};\n",
      "'''\n",
      "display(Javascript(require_js.format()))"
     ],
     "language": "python",
     "metadata": {},
     "outputs": [
      {
       "javascript": [
        "\n",
        "    if (window.d3 === undefined){   \n",
        "        require.config({ paths: {d3: \"http://d3js.org/d3.v3.min\"} });\n",
        "        require(['d3'], function(d3) {\n",
        "            window.d3 = d3;\n",
        "            console.log(window.d3);\n",
        "        });\n",
        "    };\n"
       ],
       "metadata": {},
       "output_type": "display_data",
       "text": [
        "<IPython.core.display.Javascript at 0x1057ed510>"
       ]
      }
     ],
     "prompt_number": 9
    },
    {
     "cell_type": "markdown",
     "metadata": {},
     "source": [
      "###Have `javascript` code in memory\n",
      "\n",
      "We will eventually use a `template` for this."
     ]
    },
    {
     "cell_type": "code",
     "collapsed": false,
     "input": [
      "stack = open('stack.html','r').read()\n",
      "print stack[:200]"
     ],
     "language": "python",
     "metadata": {},
     "outputs": [
      {
       "output_type": "stream",
       "stream": "stdout",
       "text": [
        "<!DOCTYPE html>\n",
        "<meta charset=\"utf-8\">\n",
        "<body>\n",
        "\n",
        "    <script src=\"http://d3js.org/d3.v3.min.js\" charset=\"utf-8\"></script>\n",
        "    <style type=\"text/css\">\n",
        "      .axis {stroke: #666666; stroke-width: 1px; fil\n"
       ]
      }
     ],
     "prompt_number": 10
    },
    {
     "cell_type": "markdown",
     "metadata": {},
     "source": [
      "###Add the `d3` code to the `notebook`"
     ]
    },
    {
     "cell_type": "code",
     "collapsed": false,
     "input": [
      "from IPython.display import display, HTML\n",
      "display(HTML(stack))"
     ],
     "language": "python",
     "metadata": {},
     "outputs": [
      {
       "html": [
        "<!DOCTYPE html>\n",
        "<meta charset=\"utf-8\">\n",
        "<body>\n",
        "\n",
        "    <script src=\"http://d3js.org/d3.v3.min.js\" charset=\"utf-8\"></script>\n",
        "    <style type=\"text/css\">\n",
        "      .axis {stroke: #666666; stroke-width: 1px; fill: none; }\n",
        "      text {font-family: \"Helvetica Neue\", Helvetica, sans-serif; \n",
        "        stroke: none; fill: #666666; }\n",
        "    </style>\n",
        "\n",
        "    <svg></svg>\n",
        "    <script>\n",
        "      //Width and height\n",
        "      var w = 500;\n",
        "      var h = 300;\n",
        "      var margin = {left: 20, right: 20, top: 20, bottom: 60};\n",
        "      var width = w - margin.left - margin.right;\n",
        "      var height = h - margin.top - margin.bottom;\n",
        "\n",
        "      var data = [\n",
        "                [ 5, 10, 22],\n",
        "                [ 4, 12, 28],\n",
        "                [ 2, 19, 32],\n",
        "                [ 7,  23, 35],\n",
        "                [ 23,  17, 43]\n",
        "            ];\n",
        "\n",
        "      var categories = [\"Apples\", \"Bananas\", \"Grapes\"];\n",
        "      var dataset =categories.map(function(dat,i){\n",
        "          console.log(dat, i);\n",
        "          return data.map(function(d,index){\n",
        "              console.log(index, d[i]);\n",
        "              return {x: index, y: d[i] };\n",
        "          })\n",
        "      });\n",
        "\n",
        "      //Set up stack method\n",
        "      var stack = d3.layout.stack();\n",
        "\n",
        "      //Data, stacked\n",
        "      stack(dataset);\n",
        "\n",
        "      //Set up scales\n",
        "      var xScale = d3.scale.ordinal()\n",
        "          .domain(d3.range(dataset[0].length))\n",
        "          .rangeRoundBands([0, width], 0.05);\n",
        "\n",
        "      var yScale = d3.scale.linear()\n",
        "          .domain([0,\n",
        "              d3.max(dataset, function(d) {\n",
        "                  return d3.max(d, function(d) {\n",
        "                      return d.y0 + d.y;\n",
        "                  });\n",
        "              })\n",
        "          ])\n",
        "          .range([height, 0]);\n",
        "\n",
        "      var xAxis = d3.svg.axis()\n",
        "          .scale(xScale)\n",
        "          .orient(\"bottom\")\n",
        "\n",
        "      //Easy colors accessible via a 10-step ordinal scale\n",
        "      var colors = d3.scale.category20();\n",
        "    \n",
        "      //Create SVG element\n",
        "      var svg = d3.select(\"svg\")\n",
        "                  .attr(\"width\", w)\n",
        "                  .attr(\"height\", h);\n",
        "\n",
        "      // Add a group for each row of data\n",
        "      var groups = svg.selectAll(\"g\")\n",
        "          .data(dataset)\n",
        "          .enter()\n",
        "          .append(\"g\")\n",
        "          .attr(\"transform\",\"translate(\" + [margin.left, margin.top] + \")\")\n",
        "          .style(\"fill\", function(d, i) {\n",
        "              return colors(i);\n",
        "          });\n",
        "\n",
        "      // Add a rect for each data value\n",
        "      var rects = groups.selectAll(\"rect\")\n",
        "          .data(function(d) { return d; })\n",
        "          .enter()\n",
        "          .append(\"rect\")\n",
        "          .attr(\"x\", function(d, i) {\n",
        "              return xScale(i);\n",
        "          })\n",
        "          .attr(\"y\", function(d) {\n",
        "            return yScale(d.y0 + d.y);\n",
        "          })\n",
        "          .attr(\"height\", function(d) {\n",
        "            return height - yScale(d.y);\n",
        "          })\n",
        "          .attr(\"width\", xScale.rangeBand());\n",
        "      // Add the x axis\n",
        "      svg.append(\"g\").attr({\n",
        "        \"class\": \"x axis\",\n",
        "        \"transform\": \"translate(\" + [margin.left, height + margin.top] + \")\"\n",
        "      }).call(xAxis);\n",
        "\n",
        "    </script>\n",
        "    \n",
        "</body>\n",
        "</html>"
       ],
       "metadata": {},
       "output_type": "display_data",
       "text": [
        "<IPython.core.display.HTML at 0x1057ed4d0>"
       ]
      }
     ],
     "prompt_number": 11
    },
    {
     "cell_type": "markdown",
     "metadata": {},
     "source": [
      "## Part 2: What if we want to control the graphic?\n",
      "### Pass parameters to a template"
     ]
    },
    {
     "cell_type": "code",
     "collapsed": false,
     "input": [
      "import jinja2 as jin\n",
      "\n",
      "template = jin.Template('''\n",
      "    var w = 500;\n",
      "    var h = 300;\n",
      "''')\n",
      "\n",
      "print template.render()"
     ],
     "language": "python",
     "metadata": {},
     "outputs": [
      {
       "output_type": "stream",
       "stream": "stdout",
       "text": [
        "\n",
        "    var w = 500;\n",
        "    var h = 300;\n"
       ]
      }
     ],
     "prompt_number": 22
    },
    {
     "cell_type": "markdown",
     "metadata": {},
     "source": [
      "But we can also pass variables to a `template`."
     ]
    },
    {
     "cell_type": "code",
     "collapsed": false,
     "input": [
      "template = jin.Template('''\n",
      "    var w = {{width}};\n",
      "    var h = {{height}};\n",
      "''')\n",
      "\n",
      "print template.render( {'width': 200, 'height': 300} )"
     ],
     "language": "python",
     "metadata": {},
     "outputs": [
      {
       "output_type": "stream",
       "stream": "stdout",
       "text": [
        "\n",
        "    var w = 200;\n",
        "    var h = 300;\n"
       ]
      }
     ],
     "prompt_number": 8
    },
    {
     "cell_type": "markdown",
     "metadata": {},
     "source": [
      "### What about data?"
     ]
    },
    {
     "cell_type": "markdown",
     "metadata": {},
     "source": [
      "We want something that looks like:\n",
      "\n",
      "`\n",
      "var data = [\n",
      "            [ 5, 10, 22],\n",
      "            [ 4, 12, 28],\n",
      "            [ 2, 19, 32],\n",
      "            [ 7,  23, 35],\n",
      "            [ 23,  17, 43]\n",
      "            ];\n",
      "`\n",
      "\n",
      "In Python, that's a list of lists."
     ]
    },
    {
     "cell_type": "code",
     "collapsed": false,
     "input": [
      "data = [[ 5, 10, 22],\n",
      "        [ 4, 12, 28],\n",
      "        [ 2, 19, 32],\n",
      "        [ 7,  23, 35],\n",
      "        [ 23,  17, 43]]\n",
      "\n",
      "print data"
     ],
     "language": "python",
     "metadata": {},
     "outputs": [
      {
       "output_type": "stream",
       "stream": "stdout",
       "text": [
        "[[5, 10, 22], [4, 12, 28], [2, 19, 32], [7, 23, 35], [23, 17, 43]]\n"
       ]
      }
     ],
     "prompt_number": 9
    },
    {
     "cell_type": "code",
     "collapsed": false,
     "input": [
      "template = jin.Template('''\n",
      "    var w = {{width}};\n",
      "    var h = {{height}};\n",
      "    var data = {{data}};\n",
      "''')\n",
      "\n",
      "print template.render( {'width': 200, 'height': 300, 'data': data} )"
     ],
     "language": "python",
     "metadata": {},
     "outputs": [
      {
       "output_type": "stream",
       "stream": "stdout",
       "text": [
        "\n",
        "    var w = 200;\n",
        "    var h = 300;\n",
        "    var data = [[5, 10, 22], [4, 12, 28], [2, 19, 32], [7, 23, 35], [23, 17, 43]];\n"
       ]
      }
     ],
     "prompt_number": 10
    },
    {
     "cell_type": "markdown",
     "metadata": {},
     "source": [
      "### Final solution\n",
      "\n",
      "Need to add one additional parameter for the `svg` so we can have multiple graphics in the same notebook."
     ]
    },
    {
     "cell_type": "code",
     "collapsed": false,
     "input": [
      "template = jin.Template('''\n",
      "<script src=\"http://d3js.org/d3.v3.min.js\" charset=\"utf-8\"></script>\n",
      "    <style type=\"text/css\">\n",
      "      .axis {stroke: #666666; stroke-width: 1px; fill: none; }\n",
      "      text {font-family: \"Helvetica Neue\", Helvetica, sans-serif; \n",
      "        stroke: none; fill: #666666; }\n",
      "    </style>\n",
      "\n",
      "    <div id=\"graph{{id}}\"></div>\n",
      "    <script>\n",
      "      //Width and height\n",
      "      var w = {{width}};\n",
      "      var h = {{height}};\n",
      "      var margin = {left: 20, right: 20, top: 20, bottom: 60};\n",
      "      var width = w - margin.left - margin.right;\n",
      "      var height = h - margin.top - margin.bottom;\n",
      "\n",
      "      var data = {{data}};\n",
      "\n",
      "      var categories = [\"Apples\", \"Bananas\", \"Grapes\"];\n",
      "      var dataset =categories.map(function(dat,i){\n",
      "          console.log(dat, i);\n",
      "          return data.map(function(d,index){\n",
      "              console.log(index, d[i]);\n",
      "              return {x: index, y: d[i] };\n",
      "          })\n",
      "      });\n",
      "\n",
      "      //Set up stack method\n",
      "      var stack = d3.layout.stack();\n",
      "\n",
      "      //Data, stacked\n",
      "      stack(dataset);\n",
      "\n",
      "      //Set up scales\n",
      "      var xScale = d3.scale.ordinal()\n",
      "          .domain(d3.range(dataset[0].length))\n",
      "          .rangeRoundBands([0, width], 0.05);\n",
      "\n",
      "      var yScale = d3.scale.linear()\n",
      "          .domain([0,\n",
      "              d3.max(dataset, function(d) {\n",
      "                  return d3.max(d, function(d) {\n",
      "                      return d.y0 + d.y;\n",
      "                  });\n",
      "              })\n",
      "          ])\n",
      "          .range([height, 0]);\n",
      "\n",
      "      var xAxis = d3.svg.axis()\n",
      "          .scale(xScale)\n",
      "          .orient(\"bottom\")\n",
      "\n",
      "      //Easy colors accessible via a 10-step ordinal scale\n",
      "      var colors = d3.scale.category20();\n",
      "    \n",
      "      //Create SVG element\n",
      "      var svg = d3.select(\"#graph{{id}}\").append(\"svg\")\n",
      "                  .attr(\"width\", w)\n",
      "                  .attr(\"height\", h);\n",
      "\n",
      "      // Add a group for each row of data\n",
      "      var groups = svg.selectAll(\"g\")\n",
      "          .data(dataset)\n",
      "          .enter()\n",
      "          .append(\"g\")\n",
      "          .attr(\"transform\",\"translate(\" + [margin.left, margin.top] + \")\")\n",
      "          .style(\"fill\", function(d, i) {\n",
      "              return colors(i);\n",
      "          });\n",
      "\n",
      "      // Add a rect for each data value\n",
      "      var rects = groups.selectAll(\"rect\")\n",
      "          .data(function(d) { return d; })\n",
      "          .enter()\n",
      "          .append(\"rect\")\n",
      "          .attr(\"x\", function(d, i) {\n",
      "              return xScale(i);\n",
      "          })\n",
      "          .attr(\"y\", function(d) {\n",
      "            return yScale(d.y0 + d.y);\n",
      "          })\n",
      "          .attr(\"height\", function(d) {\n",
      "            return height - yScale(d.y);\n",
      "          })\n",
      "          .attr(\"width\", xScale.rangeBand());\n",
      "      // Add the x axis\n",
      "      svg.append(\"g\").attr({\n",
      "        \"class\": \"x axis\",\n",
      "        \"transform\": \"translate(\" + [margin.left, height + margin.top] + \")\"\n",
      "      }).call(xAxis);\n",
      "\n",
      "    </script>\n",
      "''')"
     ],
     "language": "python",
     "metadata": {},
     "outputs": [],
     "prompt_number": 11
    },
    {
     "cell_type": "code",
     "collapsed": false,
     "input": [
      "output = template.render( {'width': 700, 'height': 400, 'data': data, 'id': 1} )\n",
      "display(HTML(output))"
     ],
     "language": "python",
     "metadata": {},
     "outputs": [
      {
       "html": [
        "\n",
        "<script src=\"http://d3js.org/d3.v3.min.js\" charset=\"utf-8\"></script>\n",
        "    <style type=\"text/css\">\n",
        "      .axis {stroke: #666666; stroke-width: 1px; fill: none; }\n",
        "      text {font-family: \"Helvetica Neue\", Helvetica, sans-serif; \n",
        "        stroke: none; fill: #666666; }\n",
        "    </style>\n",
        "\n",
        "    <div id=\"graph1\"></div>\n",
        "    <script>\n",
        "      //Width and height\n",
        "      var w = 700;\n",
        "      var h = 400;\n",
        "      var margin = {left: 20, right: 20, top: 20, bottom: 60};\n",
        "      var width = w - margin.left - margin.right;\n",
        "      var height = h - margin.top - margin.bottom;\n",
        "\n",
        "      var data = [[5, 10, 22], [4, 12, 28], [2, 19, 32], [7, 23, 35], [23, 17, 43]];\n",
        "\n",
        "      var categories = [\"Apples\", \"Bananas\", \"Grapes\"];\n",
        "      var dataset =categories.map(function(dat,i){\n",
        "          console.log(dat, i);\n",
        "          return data.map(function(d,index){\n",
        "              console.log(index, d[i]);\n",
        "              return {x: index, y: d[i] };\n",
        "          })\n",
        "      });\n",
        "\n",
        "      //Set up stack method\n",
        "      var stack = d3.layout.stack();\n",
        "\n",
        "      //Data, stacked\n",
        "      stack(dataset);\n",
        "\n",
        "      //Set up scales\n",
        "      var xScale = d3.scale.ordinal()\n",
        "          .domain(d3.range(dataset[0].length))\n",
        "          .rangeRoundBands([0, width], 0.05);\n",
        "\n",
        "      var yScale = d3.scale.linear()\n",
        "          .domain([0,\n",
        "              d3.max(dataset, function(d) {\n",
        "                  return d3.max(d, function(d) {\n",
        "                      return d.y0 + d.y;\n",
        "                  });\n",
        "              })\n",
        "          ])\n",
        "          .range([height, 0]);\n",
        "\n",
        "      var xAxis = d3.svg.axis()\n",
        "          .scale(xScale)\n",
        "          .orient(\"bottom\")\n",
        "\n",
        "      //Easy colors accessible via a 10-step ordinal scale\n",
        "      var colors = d3.scale.category20();\n",
        "    \n",
        "      //Create SVG element\n",
        "      var svg = d3.select(\"#graph1\").append(\"svg\")\n",
        "                  .attr(\"width\", w)\n",
        "                  .attr(\"height\", h);\n",
        "\n",
        "      // Add a group for each row of data\n",
        "      var groups = svg.selectAll(\"g\")\n",
        "          .data(dataset)\n",
        "          .enter()\n",
        "          .append(\"g\")\n",
        "          .attr(\"transform\",\"translate(\" + [margin.left, margin.top] + \")\")\n",
        "          .style(\"fill\", function(d, i) {\n",
        "              return colors(i);\n",
        "          });\n",
        "\n",
        "      // Add a rect for each data value\n",
        "      var rects = groups.selectAll(\"rect\")\n",
        "          .data(function(d) { return d; })\n",
        "          .enter()\n",
        "          .append(\"rect\")\n",
        "          .attr(\"x\", function(d, i) {\n",
        "              return xScale(i);\n",
        "          })\n",
        "          .attr(\"y\", function(d) {\n",
        "            return yScale(d.y0 + d.y);\n",
        "          })\n",
        "          .attr(\"height\", function(d) {\n",
        "            return height - yScale(d.y);\n",
        "          })\n",
        "          .attr(\"width\", xScale.rangeBand());\n",
        "      // Add the x axis\n",
        "      svg.append(\"g\").attr({\n",
        "        \"class\": \"x axis\",\n",
        "        \"transform\": \"translate(\" + [margin.left, height + margin.top] + \")\"\n",
        "      }).call(xAxis);\n",
        "\n",
        "    </script>"
       ],
       "metadata": {},
       "output_type": "display_data",
       "text": [
        "<IPython.core.display.HTML at 0x105da6290>"
       ]
      }
     ],
     "prompt_number": 12
    },
    {
     "cell_type": "code",
     "collapsed": false,
     "input": [
      "import numpy as np\n",
      "data = np.reshape(np.abs(10*np.random.randn(30)), (10,3)).tolist()\n",
      "output = template.render( {'width': 700, 'height': 500, 'data': data, 'id': 2} )\n",
      "display(HTML(output))"
     ],
     "language": "python",
     "metadata": {},
     "outputs": [
      {
       "html": [
        "\n",
        "<script src=\"http://d3js.org/d3.v3.min.js\" charset=\"utf-8\"></script>\n",
        "    <style type=\"text/css\">\n",
        "      .axis {stroke: #666666; stroke-width: 1px; fill: none; }\n",
        "      text {font-family: \"Helvetica Neue\", Helvetica, sans-serif; \n",
        "        stroke: none; fill: #666666; }\n",
        "    </style>\n",
        "\n",
        "    <div id=\"graph2\"></div>\n",
        "    <script>\n",
        "      //Width and height\n",
        "      var w = 700;\n",
        "      var h = 500;\n",
        "      var margin = {left: 20, right: 20, top: 20, bottom: 60};\n",
        "      var width = w - margin.left - margin.right;\n",
        "      var height = h - margin.top - margin.bottom;\n",
        "\n",
        "      var data = [[18.761429307981313, 5.342077493531808, 0.8929418138520285], [17.48542406799845, 3.0261223463610647, 2.965305037509162], [0.45795152846004167, 4.578188368299115, 19.01273723480592], [12.649787351553588, 3.256519527840642, 3.4663938910470233], [4.821304312262134, 10.494358256675882, 20.666940231559153], [0.33433935542737747, 11.788561700345664, 10.614386506302296], [7.764470486946693, 10.03613751948036, 9.195593428022912], [0.7527766065027229, 9.107579267765347, 8.741661313695184], [3.9780045958494394, 9.131365958204613, 6.093111983476074], [8.009651651302647, 10.155384518958101, 17.16785774170718]];\n",
        "\n",
        "      var categories = [\"Apples\", \"Bananas\", \"Grapes\"];\n",
        "      var dataset =categories.map(function(dat,i){\n",
        "          console.log(dat, i);\n",
        "          return data.map(function(d,index){\n",
        "              console.log(index, d[i]);\n",
        "              return {x: index, y: d[i] };\n",
        "          })\n",
        "      });\n",
        "\n",
        "      //Set up stack method\n",
        "      var stack = d3.layout.stack();\n",
        "\n",
        "      //Data, stacked\n",
        "      stack(dataset);\n",
        "\n",
        "      //Set up scales\n",
        "      var xScale = d3.scale.ordinal()\n",
        "          .domain(d3.range(dataset[0].length))\n",
        "          .rangeRoundBands([0, width], 0.05);\n",
        "\n",
        "      var yScale = d3.scale.linear()\n",
        "          .domain([0,\n",
        "              d3.max(dataset, function(d) {\n",
        "                  return d3.max(d, function(d) {\n",
        "                      return d.y0 + d.y;\n",
        "                  });\n",
        "              })\n",
        "          ])\n",
        "          .range([height, 0]);\n",
        "\n",
        "      var xAxis = d3.svg.axis()\n",
        "          .scale(xScale)\n",
        "          .orient(\"bottom\")\n",
        "\n",
        "      //Easy colors accessible via a 10-step ordinal scale\n",
        "      var colors = d3.scale.category20();\n",
        "    \n",
        "      //Create SVG element\n",
        "      var svg = d3.select(\"#graph2\").append(\"svg\")\n",
        "                  .attr(\"width\", w)\n",
        "                  .attr(\"height\", h);\n",
        "\n",
        "      // Add a group for each row of data\n",
        "      var groups = svg.selectAll(\"g\")\n",
        "          .data(dataset)\n",
        "          .enter()\n",
        "          .append(\"g\")\n",
        "          .attr(\"transform\",\"translate(\" + [margin.left, margin.top] + \")\")\n",
        "          .style(\"fill\", function(d, i) {\n",
        "              return colors(i);\n",
        "          });\n",
        "\n",
        "      // Add a rect for each data value\n",
        "      var rects = groups.selectAll(\"rect\")\n",
        "          .data(function(d) { return d; })\n",
        "          .enter()\n",
        "          .append(\"rect\")\n",
        "          .attr(\"x\", function(d, i) {\n",
        "              return xScale(i);\n",
        "          })\n",
        "          .attr(\"y\", function(d) {\n",
        "            return yScale(d.y0 + d.y);\n",
        "          })\n",
        "          .attr(\"height\", function(d) {\n",
        "            return height - yScale(d.y);\n",
        "          })\n",
        "          .attr(\"width\", xScale.rangeBand());\n",
        "      // Add the x axis\n",
        "      svg.append(\"g\").attr({\n",
        "        \"class\": \"x axis\",\n",
        "        \"transform\": \"translate(\" + [margin.left, height + margin.top] + \")\"\n",
        "      }).call(xAxis);\n",
        "\n",
        "    </script>"
       ],
       "metadata": {},
       "output_type": "display_data",
       "text": [
        "<IPython.core.display.HTML at 0x105da6b10>"
       ]
      }
     ],
     "prompt_number": 15
    },
    {
     "cell_type": "code",
     "collapsed": false,
     "input": [],
     "language": "python",
     "metadata": {},
     "outputs": []
    }
   ],
   "metadata": {}
  }
 ]
}